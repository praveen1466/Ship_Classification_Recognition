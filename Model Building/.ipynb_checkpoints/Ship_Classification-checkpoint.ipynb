{
 "cells": [
  {
   "cell_type": "code",
   "execution_count": null,
   "metadata": {
    "id": "Fe1j4Sr8IxsM"
   },
   "outputs": [],
   "source": [
    "# Importing the necessary libraries.\n",
    "from tensorflow.keras.models import Sequential\n",
    "from tensorflow.keras.layers import Dense\n",
    "from tensorflow.keras.layers import Convolution2D\n",
    "from tensorflow.keras.layers import MaxPooling2D\n",
    "from tensorflow.keras.layers import Flatten"
   ]
  },
  {
   "cell_type": "code",
   "execution_count": 1,
   "metadata": {},
   "outputs": [
    {
     "data": {
      "text/plain": [
       "0.00392156862745098"
      ]
     },
     "execution_count": 1,
     "metadata": {},
     "output_type": "execute_result"
    }
   ],
   "source": [
    "1/255"
   ]
  },
  {
   "cell_type": "code",
   "execution_count": null,
   "metadata": {
    "id": "DCYgl4I0Jd_I"
   },
   "outputs": [],
   "source": [
    "# Initializing data preprocessing\n",
    "from tensorflow.keras.preprocessing.image import ImageDataGenerator"
   ]
  },
  {
   "cell_type": "code",
   "execution_count": null,
   "metadata": {},
   "outputs": [],
   "source": [
    "train_data_generator=ImageDataGenerator(rescale=1./255, shear_range=0.2, zoom_range=0.2, horizontal_flip=True)\n",
    "test_data_generator=ImageDataGenerator(rescale=1./255)"
   ]
  },
  {
   "cell_type": "code",
   "execution_count": null,
   "metadata": {
    "colab": {
     "base_uri": "https://localhost:8080/"
    },
    "id": "fUwlDGAxIxxt",
    "outputId": "b0798685-8678-4bbd-8309-8c9eddc159c0"
   },
   "outputs": [
    {
     "name": "stdout",
     "output_type": "stream",
     "text": [
      "Found 356 images belonging to 9 classes.\n",
      "Found 81 images belonging to 9 classes.\n"
     ]
    }
   ],
   "source": [
    "# Loading the dataset\n",
    "xtrain=train_data_generator.flow_from_directory('trainset', target_size=(64,64), batch_size=32, class_mode='categorical')\n",
    "xtest=test_data_generator.flow_from_directory('testset', target_size=(64,64), batch_size=32, class_mode='categorical')"
   ]
  },
  {
   "cell_type": "code",
   "execution_count": null,
   "metadata": {
    "colab": {
     "base_uri": "https://localhost:8080/"
    },
    "id": "SvUqtKRhIx16",
    "outputId": "3d6845fd-7211-42fe-9e6a-da0faf8b269d"
   },
   "outputs": [
    {
     "data": {
      "text/plain": [
       "{'aircraft carriers': 0,\n",
       " 'bulkers ship': 1,\n",
       " 'cruise ships': 2,\n",
       " 'drilling rigs': 3,\n",
       " 'fire-fighting vessels': 4,\n",
       " 'fishing vessels': 5,\n",
       " 'inland dry cargo vessels': 6,\n",
       " 'motor yachts': 7,\n",
       " 'submarines': 8}"
      ]
     },
     "execution_count": 8,
     "metadata": {
      "tags": []
     },
     "output_type": "execute_result"
    }
   ],
   "source": [
    "# checking the class\n",
    "xtrain.class_indices"
   ]
  },
  {
   "cell_type": "code",
   "execution_count": null,
   "metadata": {
    "id": "fcShZbKwIx55"
   },
   "outputs": [],
   "source": [
    "# Initializing the model\n",
    "model=Sequential()"
   ]
  },
  {
   "cell_type": "code",
   "execution_count": null,
   "metadata": {
    "id": "1kp-oO_3Ix9v"
   },
   "outputs": [],
   "source": [
    "# adding the convolutional layers\n",
    "model.add(Convolution2D(32,(3,3),input_shape=(64,64,3), activation='relu'))"
   ]
  },
  {
   "cell_type": "code",
   "execution_count": null,
   "metadata": {
    "id": "Vgy1cVWqIyBh"
   },
   "outputs": [],
   "source": [
    "# adding the max pooling layer\n",
    "model.add(MaxPooling2D(pool_size=(2,2)))"
   ]
  },
  {
   "cell_type": "code",
   "execution_count": null,
   "metadata": {
    "id": "y5z4gL45IyFW"
   },
   "outputs": [],
   "source": [
    "# adding the flattern layer as input layer\n",
    "model.add(Flatten())"
   ]
  },
  {
   "cell_type": "code",
   "execution_count": null,
   "metadata": {
    "id": "PY6H1S06IyI2"
   },
   "outputs": [],
   "source": [
    "# adding the hidden layer\n",
    "model.add(Dense(units=128, kernel_initializer='uniform', activation='relu'))"
   ]
  },
  {
   "cell_type": "code",
   "execution_count": null,
   "metadata": {
    "id": "eQSAJhsiJvgD"
   },
   "outputs": [],
   "source": [
    "# adding the output layer\n",
    "model.add(Dense(units=9, kernel_initializer='uniform', activation='softmax'))"
   ]
  },
  {
   "cell_type": "code",
   "execution_count": null,
   "metadata": {
    "id": "60qVzRBhJvjM"
   },
   "outputs": [],
   "source": [
    "# Configure The Learning Process\n",
    "model.compile(optimizer='adam', loss='categorical_crossentropy', metrics=['accuracy'])"
   ]
  },
  {
   "cell_type": "code",
   "execution_count": null,
   "metadata": {
    "colab": {
     "base_uri": "https://localhost:8080/"
    },
    "id": "pwXA9qQFJvl4",
    "outputId": "cb0fb332-8407-49ae-bb2d-08bfdc7ce3b0"
   },
   "outputs": [
    {
     "name": "stderr",
     "output_type": "stream",
     "text": [
      "/usr/local/lib/python3.7/dist-packages/tensorflow/python/keras/engine/training.py:1844: UserWarning: `Model.fit_generator` is deprecated and will be removed in a future version. Please use `Model.fit`, which supports generators.\n",
      "  warnings.warn('`Model.fit_generator` is deprecated and '\n"
     ]
    },
    {
     "name": "stdout",
     "output_type": "stream",
     "text": [
      "Epoch 1/20\n",
      "12/12 [==============================] - 150s 13s/step - loss: 2.5142 - accuracy: 0.1085 - val_loss: 2.2342 - val_accuracy: 0.0741\n",
      "Epoch 2/20\n",
      "12/12 [==============================] - 13s 1s/step - loss: 2.1676 - accuracy: 0.1373 - val_loss: 2.1251 - val_accuracy: 0.2099\n",
      "Epoch 3/20\n",
      "12/12 [==============================] - 13s 1s/step - loss: 2.0792 - accuracy: 0.2416 - val_loss: 2.0668 - val_accuracy: 0.2469\n",
      "Epoch 4/20\n",
      "12/12 [==============================] - 13s 1s/step - loss: 2.0046 - accuracy: 0.2164 - val_loss: 2.0314 - val_accuracy: 0.2716\n",
      "Epoch 5/20\n",
      "12/12 [==============================] - 13s 1s/step - loss: 1.9450 - accuracy: 0.3037 - val_loss: 1.9577 - val_accuracy: 0.2840\n",
      "Epoch 6/20\n",
      "12/12 [==============================] - 13s 1s/step - loss: 1.8626 - accuracy: 0.3377 - val_loss: 1.9415 - val_accuracy: 0.2716\n",
      "Epoch 7/20\n",
      "12/12 [==============================] - 13s 1s/step - loss: 1.8132 - accuracy: 0.3574 - val_loss: 1.8238 - val_accuracy: 0.3580\n",
      "Epoch 8/20\n",
      "12/12 [==============================] - 15s 1s/step - loss: 1.6730 - accuracy: 0.4159 - val_loss: 1.8482 - val_accuracy: 0.3827\n",
      "Epoch 9/20\n",
      "12/12 [==============================] - 13s 1s/step - loss: 1.6368 - accuracy: 0.4344 - val_loss: 1.8111 - val_accuracy: 0.3210\n",
      "Epoch 10/20\n",
      "12/12 [==============================] - 13s 1s/step - loss: 1.4897 - accuracy: 0.4557 - val_loss: 1.8439 - val_accuracy: 0.3704\n",
      "Epoch 11/20\n",
      "12/12 [==============================] - 13s 1s/step - loss: 1.4373 - accuracy: 0.5080 - val_loss: 1.9716 - val_accuracy: 0.3210\n",
      "Epoch 12/20\n",
      "12/12 [==============================] - 13s 1s/step - loss: 1.4064 - accuracy: 0.5430 - val_loss: 1.7848 - val_accuracy: 0.3333\n",
      "Epoch 13/20\n",
      "12/12 [==============================] - 13s 1s/step - loss: 1.3842 - accuracy: 0.5052 - val_loss: 1.7632 - val_accuracy: 0.3951\n",
      "Epoch 14/20\n",
      "12/12 [==============================] - 13s 1s/step - loss: 1.3069 - accuracy: 0.5461 - val_loss: 1.8573 - val_accuracy: 0.3951\n",
      "Epoch 15/20\n",
      "12/12 [==============================] - 13s 1s/step - loss: 1.2457 - accuracy: 0.6266 - val_loss: 1.8955 - val_accuracy: 0.3457\n",
      "Epoch 16/20\n",
      "12/12 [==============================] - 13s 1s/step - loss: 1.2206 - accuracy: 0.5870 - val_loss: 1.9831 - val_accuracy: 0.3704\n",
      "Epoch 17/20\n",
      "12/12 [==============================] - 13s 1s/step - loss: 1.2256 - accuracy: 0.5417 - val_loss: 1.8344 - val_accuracy: 0.3951\n",
      "Epoch 18/20\n",
      "12/12 [==============================] - 13s 1s/step - loss: 1.0717 - accuracy: 0.6454 - val_loss: 1.7785 - val_accuracy: 0.3951\n",
      "Epoch 19/20\n",
      "12/12 [==============================] - 13s 1s/step - loss: 1.0787 - accuracy: 0.6617 - val_loss: 1.9702 - val_accuracy: 0.3704\n",
      "Epoch 20/20\n",
      "12/12 [==============================] - 13s 1s/step - loss: 1.0786 - accuracy: 0.6389 - val_loss: 1.8096 - val_accuracy: 0.3704\n"
     ]
    },
    {
     "data": {
      "text/plain": [
       "<tensorflow.python.keras.callbacks.History at 0x7f0835b82dd0>"
      ]
     },
     "execution_count": 16,
     "metadata": {
      "tags": []
     },
     "output_type": "execute_result"
    }
   ],
   "source": [
    "# Training the model\n",
    "model.fit_generator(xtrain, epochs=20, validation_data=xtest, validation_steps=3)"
   ]
  },
  {
   "cell_type": "code",
   "execution_count": null,
   "metadata": {
    "id": "3JILZ4K-JvoB"
   },
   "outputs": [],
   "source": [
    "# Saving the model\n",
    "from tensorflow.keras.model import load_model\n",
    "model.save('ship_classification.h5')"
   ]
  },
  {
   "cell_type": "code",
   "execution_count": null,
   "metadata": {
    "colab": {
     "base_uri": "https://localhost:8080/",
     "height": 35
    },
    "id": "jDjslc5AIyMK",
    "outputId": "dec6f8f7-9b8d-4d38-8bc8-df22da9d13cc"
   },
   "outputs": [
    {
     "data": {
      "application/vnd.google.colaboratory.intrinsic+json": {
       "type": "string"
      },
      "text/plain": [
       "'/content/gdrive/My Drive/Datasets/Ship Classification'"
      ]
     },
     "execution_count": 19,
     "metadata": {
      "tags": []
     },
     "output_type": "execute_result"
    }
   ],
   "source": [
    "pwd"
   ]
  },
  {
   "cell_type": "code",
   "execution_count": null,
   "metadata": {
    "id": "V07Cy1VmIyPX"
   },
   "outputs": [],
   "source": []
  },
  {
   "cell_type": "code",
   "execution_count": null,
   "metadata": {
    "id": "Z-sKKAXtIySe"
   },
   "outputs": [],
   "source": []
  }
 ],
 "metadata": {
  "colab": {
   "name": "Ship Classification.ipynb",
   "provenance": []
  },
  "kernelspec": {
   "display_name": "Python 3",
   "language": "python",
   "name": "python3"
  },
  "language_info": {
   "codemirror_mode": {
    "name": "ipython",
    "version": 3
   },
   "file_extension": ".py",
   "mimetype": "text/x-python",
   "name": "python",
   "nbconvert_exporter": "python",
   "pygments_lexer": "ipython3",
   "version": "3.8.5"
  }
 },
 "nbformat": 4,
 "nbformat_minor": 1
}
