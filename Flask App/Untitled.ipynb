{
 "cells": [
  {
   "cell_type": "code",
   "execution_count": 2,
   "id": "changing-energy",
   "metadata": {},
   "outputs": [
    {
     "name": "stdout",
     "output_type": "stream",
     "text": [
      " * Serving Flask app \"__main__\" (lazy loading)\n",
      " * Environment: production\n",
      "   WARNING: This is a development server. Do not use it in a production deployment.\n",
      "   Use a production WSGI server instead.\n",
      " * Debug mode: off\n"
     ]
    },
    {
     "name": "stderr",
     "output_type": "stream",
     "text": [
      " * Running on http://127.0.0.1:5000/ (Press CTRL+C to quit)\n"
     ]
    }
   ],
   "source": [
    "# Importing the necessary libraries\n",
    "from tensorflow.keras.models import load_model\n",
    "from tensorflow.keras.preprocessing import image\n",
    "from flask import Flask , request, render_template\n",
    "import os\n",
    "import numpy as np\n",
    "\n",
    "\n",
    "# flask application name\n",
    "app = Flask(__name__)\n",
    "# Loading the model\n",
    "model = load_model(\"ship_classification.h5\")\n",
    "\n",
    "# rendering the html template\n",
    "@app.route('/')\n",
    "def index():\n",
    "    return render_template('base.html')\n",
    "\n",
    "@app.route('/predict',methods = ['GET','POST'])\n",
    "def upload():\n",
    "    if request.method == 'POST':\n",
    "        f = request.files['image']\n",
    "        print(\"current path\")\n",
    "        basepath = os.path.dirname(\"__file__\")\n",
    "        print(\"current path\", basepath)\n",
    "        filepath = os.path.join(basepath,'uploads',f.filename)\n",
    "        print(\"upload folder is \", filepath)\n",
    "        f.save(filepath)\n",
    "        \n",
    "        img = image.load_img(filepath,target_size = (64,64))\n",
    "        x = image.img_to_array(img)\n",
    "        x = np.expand_dims(x,axis =0)\n",
    "\n",
    "        preds = model.predict_classes(x)\n",
    "            \n",
    "        print(\"prediction\",preds)\n",
    "    \n",
    "        index = ['aircraft carriers','bulkers ship','cruise ships','drilling rigs','fire-fighting vessels','fishing vessels','inland dry cargo vessels','motor yachts','submarines']\n",
    "        \n",
    "        text = \"the ship name is : \" + str(index[preds[0]])\n",
    "        \n",
    "    return text\n",
    "if __name__ == '__main__':\n",
    "    app.run(debug = False, threaded = False)"
   ]
  }
 ],
 "metadata": {
  "kernelspec": {
   "display_name": "Python 3",
   "language": "python",
   "name": "python3"
  },
  "language_info": {
   "codemirror_mode": {
    "name": "ipython",
    "version": 3
   },
   "file_extension": ".py",
   "mimetype": "text/x-python",
   "name": "python",
   "nbconvert_exporter": "python",
   "pygments_lexer": "ipython3",
   "version": "3.8.5"
  }
 },
 "nbformat": 4,
 "nbformat_minor": 5
}
